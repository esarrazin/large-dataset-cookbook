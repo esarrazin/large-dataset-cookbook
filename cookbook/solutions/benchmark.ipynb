{
 "cells": [
  {
   "cell_type": "markdown",
   "id": "dd029b89-988b-43f9-b1eb-e6fabf064593",
   "metadata": {},
   "source": [
    "# Pandas: File format benchmark"
   ]
  },
  {
   "cell_type": "markdown",
   "id": "ec434f77-f99b-4a73-a47d-795565397ca2",
   "metadata": {},
   "source": [
    "We will compare reading and writing performances of several file formats:\n",
    " * CSV\n",
    " * Feather\n",
    " * Parquet"
   ]
  },
  {
   "cell_type": "markdown",
   "id": "ffe340f5-bd7b-4e8b-be30-c70914abb73b",
   "metadata": {},
   "source": [
    "The metrics are:\n",
    " * size_mb — the size of the file (in Mb) with the serialized data frame\n",
    " * save_time — an amount of time required to save a data frame onto a disk\n",
    " * load_time — an amount of time needed to load the previously dumped data frame into memory\n",
    " * save_ram_delta_mb — the maximal memory consumption growth during a data frame saving process\n",
    " * load_ram_delta_mb — the maximal memory consumption growth during a data frame loading process"
   ]
  },
  {
   "cell_type": "code",
   "execution_count": 1,
   "id": "ac0cab5e-acb4-44df-873b-bf4b100a3432",
   "metadata": {},
   "outputs": [],
   "source": [
    "import random\n",
    "import string\n",
    "import numpy as np\n",
    "import pandas as pd\n",
    "from datetime import datetime\n",
    "import pathlib\n",
    "%load_ext memory_profiler"
   ]
  },
  {
   "cell_type": "markdown",
   "id": "1b04c030-c712-4b0e-b940-1752858be0ad",
   "metadata": {},
   "source": [
    "Create a large dataset"
   ]
  },
  {
   "cell_type": "code",
   "execution_count": 2,
   "id": "a5506bb7-5ecc-4183-a040-c9976ba73a5c",
   "metadata": {},
   "outputs": [
    {
     "name": "stdout",
     "output_type": "stream",
     "text": [
      "CPU times: user 7.86 s, sys: 242 ms, total: 8.1 s\n",
      "Wall time: 8.1 s\n"
     ]
    }
   ],
   "source": [
    "%%time\n",
    "def gen_random_string(length:int=32) -> str:\n",
    "    return ''.join(random.choices(string.ascii_uppercase + string.digits, k=length))\n",
    "    \n",
    "def make_timeseries(start=\"2000-01-01\", end=\"2000-12-31\", freq=\"1D\", seed=None):\n",
    "\n",
    "    dt = pd.date_range(start=start, end=end, freq=freq, name=\"timestamp\")\n",
    "    n = len(dt)\n",
    "    np.random.seed = seed\n",
    "    columns = {\n",
    "        'date': dt,\n",
    "        'cat': np.random.choice(['cat1','cat2','cat3','cat4','cat5'],n),\n",
    "        'str1':[gen_random_string() for _ in range(n)],\n",
    "        'str2':[gen_random_string() for _ in range(n)],\n",
    "        'a': np.random.rand(n),\n",
    "        'b': np.random.rand(n),\n",
    "        'c': np.random.randint(1,100,n),\n",
    "    }\n",
    "\n",
    "    df = pd.DataFrame(columns, columns=columns)\n",
    "    if df.index[-1] == end:\n",
    "        df = df.iloc[:-1]\n",
    "    return df\n",
    "\n",
    "df = make_timeseries(start=datetime(2020,1,1), end=datetime(2023,12,31), freq='1min', seed=10)\n",
    "df[\"cat\"] = df[\"cat\"].astype(\"category\")"
   ]
  },
  {
   "cell_type": "markdown",
   "id": "4411cf70-5f2b-4c33-999f-9a84045a793d",
   "metadata": {},
   "source": [
    "Print the fisrt rows to see what the data looks like."
   ]
  },
  {
   "cell_type": "code",
   "execution_count": 3,
   "id": "d810f3ef-6934-49ef-9054-755498c7ff73",
   "metadata": {},
   "outputs": [
    {
     "data": {
      "text/html": [
       "<div>\n",
       "<style scoped>\n",
       "    .dataframe tbody tr th:only-of-type {\n",
       "        vertical-align: middle;\n",
       "    }\n",
       "\n",
       "    .dataframe tbody tr th {\n",
       "        vertical-align: top;\n",
       "    }\n",
       "\n",
       "    .dataframe thead th {\n",
       "        text-align: right;\n",
       "    }\n",
       "</style>\n",
       "<table border=\"1\" class=\"dataframe\">\n",
       "  <thead>\n",
       "    <tr style=\"text-align: right;\">\n",
       "      <th></th>\n",
       "      <th>date</th>\n",
       "      <th>cat</th>\n",
       "      <th>str1</th>\n",
       "      <th>str2</th>\n",
       "      <th>a</th>\n",
       "      <th>b</th>\n",
       "      <th>c</th>\n",
       "    </tr>\n",
       "  </thead>\n",
       "  <tbody>\n",
       "    <tr>\n",
       "      <th>0</th>\n",
       "      <td>2020-01-01 00:00:00</td>\n",
       "      <td>cat5</td>\n",
       "      <td>FYY2NJI5GNI43JLU2BHMLB7BR21EPRGC</td>\n",
       "      <td>TJKDJ0DYO6WGJXFNZFJI7K7T93I8U6PC</td>\n",
       "      <td>0.324755</td>\n",
       "      <td>0.481147</td>\n",
       "      <td>87</td>\n",
       "    </tr>\n",
       "    <tr>\n",
       "      <th>1</th>\n",
       "      <td>2020-01-01 00:01:00</td>\n",
       "      <td>cat2</td>\n",
       "      <td>IED441OT3A1M6N3I1DR7RK34QWAHGX1P</td>\n",
       "      <td>Q329243NA8HKXSC6JR2FMDW8DLUV9XG3</td>\n",
       "      <td>0.235484</td>\n",
       "      <td>0.915106</td>\n",
       "      <td>55</td>\n",
       "    </tr>\n",
       "    <tr>\n",
       "      <th>2</th>\n",
       "      <td>2020-01-01 00:02:00</td>\n",
       "      <td>cat4</td>\n",
       "      <td>U6AQRGQDDBQ40CN8WJSDPGXYKHRN4EAC</td>\n",
       "      <td>OZ6QUUJT5851KBAT23R4BR2KI1F7TQUO</td>\n",
       "      <td>0.231799</td>\n",
       "      <td>0.802818</td>\n",
       "      <td>39</td>\n",
       "    </tr>\n",
       "    <tr>\n",
       "      <th>3</th>\n",
       "      <td>2020-01-01 00:03:00</td>\n",
       "      <td>cat3</td>\n",
       "      <td>PRS76E9WDQFYO28P0KAQ14S5XXH9INVT</td>\n",
       "      <td>BNTCIFJ37IDR4240PVH64HDJDJ09UIKH</td>\n",
       "      <td>0.792647</td>\n",
       "      <td>0.518720</td>\n",
       "      <td>86</td>\n",
       "    </tr>\n",
       "    <tr>\n",
       "      <th>4</th>\n",
       "      <td>2020-01-01 00:04:00</td>\n",
       "      <td>cat1</td>\n",
       "      <td>682L5BFCDZK9U670DRP81U6Q3JTKSPWQ</td>\n",
       "      <td>G4VR2HF9PRXRTQLQV7VM1EYLX34GDYMH</td>\n",
       "      <td>0.945993</td>\n",
       "      <td>0.308536</td>\n",
       "      <td>87</td>\n",
       "    </tr>\n",
       "  </tbody>\n",
       "</table>\n",
       "</div>"
      ],
      "text/plain": [
       "                 date   cat                              str1  \\\n",
       "0 2020-01-01 00:00:00  cat5  FYY2NJI5GNI43JLU2BHMLB7BR21EPRGC   \n",
       "1 2020-01-01 00:01:00  cat2  IED441OT3A1M6N3I1DR7RK34QWAHGX1P   \n",
       "2 2020-01-01 00:02:00  cat4  U6AQRGQDDBQ40CN8WJSDPGXYKHRN4EAC   \n",
       "3 2020-01-01 00:03:00  cat3  PRS76E9WDQFYO28P0KAQ14S5XXH9INVT   \n",
       "4 2020-01-01 00:04:00  cat1  682L5BFCDZK9U670DRP81U6Q3JTKSPWQ   \n",
       "\n",
       "                               str2         a         b   c  \n",
       "0  TJKDJ0DYO6WGJXFNZFJI7K7T93I8U6PC  0.324755  0.481147  87  \n",
       "1  Q329243NA8HKXSC6JR2FMDW8DLUV9XG3  0.235484  0.915106  55  \n",
       "2  OZ6QUUJT5851KBAT23R4BR2KI1F7TQUO  0.231799  0.802818  39  \n",
       "3  BNTCIFJ37IDR4240PVH64HDJDJ09UIKH  0.792647  0.518720  86  \n",
       "4  G4VR2HF9PRXRTQLQV7VM1EYLX34GDYMH  0.945993  0.308536  87  "
      ]
     },
     "execution_count": 3,
     "metadata": {},
     "output_type": "execute_result"
    }
   ],
   "source": [
    "df.head()"
   ]
  },
  {
   "cell_type": "markdown",
   "id": "6f62bf15-dbfa-4901-8659-9a1b823becd8",
   "metadata": {},
   "source": [
    "Print the shape of the dataframe"
   ]
  },
  {
   "cell_type": "code",
   "execution_count": 4,
   "id": "600e2498-30ff-4a76-b089-38f6b0280bf2",
   "metadata": {},
   "outputs": [
    {
     "data": {
      "text/plain": [
       "(2102401, 7)"
      ]
     },
     "execution_count": 4,
     "metadata": {},
     "output_type": "execute_result"
    }
   ],
   "source": [
    "df.shape"
   ]
  },
  {
   "cell_type": "markdown",
   "id": "deca93c4-0cff-4857-a791-1a16c45cc2bf",
   "metadata": {},
   "source": [
    "Print memory usage of the dataframe "
   ]
  },
  {
   "cell_type": "code",
   "execution_count": 5,
   "id": "fd89625d-7d55-470a-8346-12c177e4c7bc",
   "metadata": {},
   "outputs": [
    {
     "name": "stdout",
     "output_type": "stream",
     "text": [
      "<class 'pandas.core.frame.DataFrame'>\n",
      "RangeIndex: 2102401 entries, 0 to 2102400\n",
      "Data columns (total 7 columns):\n",
      " #   Column  Dtype         \n",
      "---  ------  -----         \n",
      " 0   date    datetime64[ns]\n",
      " 1   cat     category      \n",
      " 2   str1    object        \n",
      " 3   str2    object        \n",
      " 4   a       float64       \n",
      " 5   b       float64       \n",
      " 6   c       int64         \n",
      "dtypes: category(1), datetime64[ns](1), float64(2), int64(1), object(2)\n",
      "memory usage: 391.0 MB\n"
     ]
    }
   ],
   "source": [
    "df.info(memory_usage=\"deep\")"
   ]
  },
  {
   "cell_type": "markdown",
   "id": "70e0d18e-715b-443f-a728-d7bdeac52c79",
   "metadata": {},
   "source": [
    "## Write and read the dataframe in CSV format "
   ]
  },
  {
   "cell_type": "markdown",
   "id": "860a0980-1c08-45ee-b2b7-78b6d59e80a2",
   "metadata": {},
   "source": [
    "First we will time reading and writing the dataframe in CSV format, in order to compare the performance of pyarrow."
   ]
  },
  {
   "cell_type": "markdown",
   "id": "94baba01-f1d2-4178-8c74-06b1df9d850d",
   "metadata": {},
   "source": [
    "Measure the time and the memory to write dataframe"
   ]
  },
  {
   "cell_type": "code",
   "execution_count": 6,
   "id": "ce2b07d7-c272-4eae-be8e-ea8f392a3340",
   "metadata": {},
   "outputs": [],
   "source": [
    "# TODO"
   ]
  },
  {
   "cell_type": "code",
   "execution_count": 7,
   "id": "5c2de258-ac02-4ee7-9a7f-53af57a4be12",
   "metadata": {},
   "outputs": [
    {
     "name": "stdout",
     "output_type": "stream",
     "text": [
      "CPU times: user 8.45 s, sys: 146 ms, total: 8.6 s\n",
      "Wall time: 8.64 s\n"
     ]
    }
   ],
   "source": [
    "%%time\n",
    "df.to_csv(\"pandas.csv\",index=False)"
   ]
  },
  {
   "cell_type": "code",
   "execution_count": 8,
   "id": "1ce92a9e-bd59-468d-a05d-08697e57212c",
   "metadata": {},
   "outputs": [
    {
     "name": "stdout",
     "output_type": "stream",
     "text": [
      "peak memory: 821.58 MiB, increment: 0.50 MiB\n"
     ]
    }
   ],
   "source": [
    "%%memit\n",
    "df.to_csv(\"pandas.csv\",index=False)"
   ]
  },
  {
   "cell_type": "markdown",
   "id": "a9fde82d-8d54-4508-a59f-e4fb1bc2acc6",
   "metadata": {},
   "source": [
    "Check the file on the disk"
   ]
  },
  {
   "cell_type": "code",
   "execution_count": 9,
   "id": "b75f35b1-2c9e-41ea-9f9e-3c7cb31c9614",
   "metadata": {},
   "outputs": [],
   "source": [
    "# TODO"
   ]
  },
  {
   "cell_type": "code",
   "execution_count": 10,
   "id": "ba3f96a0-bdb1-4b84-a19c-512a4280c1e2",
   "metadata": {},
   "outputs": [
    {
     "data": {
      "text/plain": [
       "265.56116771698"
      ]
     },
     "execution_count": 10,
     "metadata": {},
     "output_type": "execute_result"
    }
   ],
   "source": [
    "pathlib.Path(\"pandas.csv\").stat().st_size / 1024 /1024"
   ]
  },
  {
   "cell_type": "markdown",
   "id": "061aa184-984f-4702-bb14-a74e28564758",
   "metadata": {},
   "source": [
    "Measure the time and the memory to read the dataframe"
   ]
  },
  {
   "cell_type": "code",
   "execution_count": 11,
   "id": "7113f17c-6e44-4941-bc08-08e13f1fcbdd",
   "metadata": {},
   "outputs": [],
   "source": [
    "# TODO"
   ]
  },
  {
   "cell_type": "code",
   "execution_count": 12,
   "id": "224fe3f9-c96e-4a6f-8a38-d181c33552db",
   "metadata": {},
   "outputs": [
    {
     "name": "stdout",
     "output_type": "stream",
     "text": [
      "CPU times: user 3.53 s, sys: 243 ms, total: 3.78 s\n",
      "Wall time: 3.78 s\n"
     ]
    }
   ],
   "source": [
    "%%time\n",
    "df1 = pd.read_csv(\"pandas.csv\")"
   ]
  },
  {
   "cell_type": "code",
   "execution_count": 13,
   "id": "12a456db-daa0-4fae-9d6b-3661a82fb50c",
   "metadata": {},
   "outputs": [
    {
     "name": "stdout",
     "output_type": "stream",
     "text": [
      "peak memory: 2026.89 MiB, increment: 644.98 MiB\n"
     ]
    }
   ],
   "source": [
    "%%memit\n",
    "df1 = pd.read_csv(\"pandas.csv\")"
   ]
  },
  {
   "cell_type": "markdown",
   "id": "4edaa881-ab54-4c25-9582-3f7c6bd1a397",
   "metadata": {},
   "source": [
    "## Write and read the dataframe in parquet format "
   ]
  },
  {
   "cell_type": "markdown",
   "id": "e4402adb-913f-46f1-a972-00e78738f087",
   "metadata": {},
   "source": [
    "Measure the time and the memory to write dataframe"
   ]
  },
  {
   "cell_type": "code",
   "execution_count": 14,
   "id": "752973f7-621d-47ff-956f-9abaca9c0563",
   "metadata": {},
   "outputs": [],
   "source": [
    "# TODO"
   ]
  },
  {
   "cell_type": "code",
   "execution_count": 15,
   "id": "d3c54247-e1b4-4f7c-9102-907ceb7a0f97",
   "metadata": {},
   "outputs": [
    {
     "name": "stdout",
     "output_type": "stream",
     "text": [
      "CPU times: user 870 ms, sys: 314 ms, total: 1.18 s\n",
      "Wall time: 1.16 s\n"
     ]
    }
   ],
   "source": [
    "%%time\n",
    "df.to_parquet(\"pandas.parquet\",index=False)"
   ]
  },
  {
   "cell_type": "code",
   "execution_count": 16,
   "id": "6eead0ee-5817-4af1-a3fd-b3a4dbad79dd",
   "metadata": {},
   "outputs": [
    {
     "name": "stdout",
     "output_type": "stream",
     "text": [
      "peak memory: 1733.83 MiB, increment: 182.97 MiB\n"
     ]
    }
   ],
   "source": [
    "%%memit\n",
    "df.to_parquet(\"pandas.parquet\",index=False)"
   ]
  },
  {
   "cell_type": "markdown",
   "id": "09b1cc71-8e36-41e9-aedf-3cf51d6809d0",
   "metadata": {},
   "source": [
    "Check the file on the disk"
   ]
  },
  {
   "cell_type": "code",
   "execution_count": 17,
   "id": "c653eaa7-202c-444b-991f-ca152264b9e4",
   "metadata": {},
   "outputs": [],
   "source": [
    "# TODO"
   ]
  },
  {
   "cell_type": "code",
   "execution_count": 18,
   "id": "15072728-ecc3-4095-9b83-32c892cc7228",
   "metadata": {},
   "outputs": [
    {
     "data": {
      "text/plain": [
       "187.42490577697754"
      ]
     },
     "execution_count": 18,
     "metadata": {},
     "output_type": "execute_result"
    }
   ],
   "source": [
    "pathlib.Path(\"pandas.parquet\").stat().st_size / 1024 /1024"
   ]
  },
  {
   "cell_type": "markdown",
   "id": "ee4014b1-c1db-4d05-9a3e-50f2614ea48a",
   "metadata": {},
   "source": [
    "Measure the time and the memory to read the dataframe"
   ]
  },
  {
   "cell_type": "code",
   "execution_count": 19,
   "id": "cdc0c7ae-9bf6-4fae-a983-d2c4b808a618",
   "metadata": {},
   "outputs": [],
   "source": [
    "# TODO"
   ]
  },
  {
   "cell_type": "code",
   "execution_count": 20,
   "id": "79711f8c-fb72-4c91-96e9-a65d015dd9e6",
   "metadata": {},
   "outputs": [
    {
     "name": "stdout",
     "output_type": "stream",
     "text": [
      "CPU times: user 1.07 s, sys: 764 ms, total: 1.83 s\n",
      "Wall time: 1.34 s\n"
     ]
    }
   ],
   "source": [
    "%%time\n",
    "df1 = pd.read_parquet(\"pandas.parquet\")"
   ]
  },
  {
   "cell_type": "code",
   "execution_count": 21,
   "id": "37af0095-138a-4be7-a6b0-1ec85db66fb3",
   "metadata": {},
   "outputs": [
    {
     "name": "stdout",
     "output_type": "stream",
     "text": [
      "peak memory: 2715.60 MiB, increment: 1016.17 MiB\n"
     ]
    }
   ],
   "source": [
    "%%memit\n",
    "df1 = pd.read_parquet(\"pandas.parquet\")"
   ]
  },
  {
   "cell_type": "markdown",
   "id": "1d638331-c258-4ae3-9c13-e9bdcfde7bf2",
   "metadata": {},
   "source": [
    "## Write and read the dataframe in feather format"
   ]
  },
  {
   "cell_type": "markdown",
   "id": "40cc4d80-4724-4d15-9d97-2a246dd6ea0f",
   "metadata": {},
   "source": [
    "Measure the time and the memory to write dataframe"
   ]
  },
  {
   "cell_type": "code",
   "execution_count": 22,
   "id": "4cc30f31-e589-4158-b9d6-26435c5a79e6",
   "metadata": {},
   "outputs": [],
   "source": [
    "# TODO"
   ]
  },
  {
   "cell_type": "code",
   "execution_count": 23,
   "id": "de4b9118-d7c4-47c7-83fd-7c25a8d13e48",
   "metadata": {},
   "outputs": [
    {
     "name": "stdout",
     "output_type": "stream",
     "text": [
      "CPU times: user 414 ms, sys: 334 ms, total: 748 ms\n",
      "Wall time: 629 ms\n"
     ]
    }
   ],
   "source": [
    "%%time\n",
    "df.to_feather(\"pandas.feather\")"
   ]
  },
  {
   "cell_type": "code",
   "execution_count": 24,
   "id": "223c1882-5312-4d53-a795-025aba5963dc",
   "metadata": {},
   "outputs": [
    {
     "name": "stdout",
     "output_type": "stream",
     "text": [
      "peak memory: 2199.72 MiB, increment: 170.55 MiB\n"
     ]
    }
   ],
   "source": [
    "%%memit\n",
    "df.to_feather(\"pandas.feather\")"
   ]
  },
  {
   "cell_type": "markdown",
   "id": "2eebb508-bf7c-428a-8193-753aed011b3c",
   "metadata": {},
   "source": [
    "Check the file on the disk"
   ]
  },
  {
   "cell_type": "code",
   "execution_count": 25,
   "id": "de2f16d3-4a8e-4fa0-bba5-368df010d26d",
   "metadata": {},
   "outputs": [],
   "source": [
    "# TODO"
   ]
  },
  {
   "cell_type": "code",
   "execution_count": 26,
   "id": "7286f7e0-f12d-49ad-a7d8-2c2b77feb669",
   "metadata": {},
   "outputs": [
    {
     "data": {
      "text/plain": [
       "199.9052219390869"
      ]
     },
     "execution_count": 26,
     "metadata": {},
     "output_type": "execute_result"
    }
   ],
   "source": [
    "pathlib.Path(\"pandas.feather\").stat().st_size / 1024 /1024"
   ]
  },
  {
   "cell_type": "markdown",
   "id": "f3d5f942-47ab-451a-9d43-4cbb3d811e3f",
   "metadata": {},
   "source": [
    "Measure the time and the memory to read the dataframe"
   ]
  },
  {
   "cell_type": "code",
   "execution_count": 27,
   "id": "e28cb13f-c2e0-4ee1-9a03-d08bcad4255f",
   "metadata": {},
   "outputs": [],
   "source": [
    "# TODO"
   ]
  },
  {
   "cell_type": "code",
   "execution_count": 28,
   "id": "f7f238b0-1ad9-408f-861e-744ec982d62d",
   "metadata": {},
   "outputs": [
    {
     "name": "stdout",
     "output_type": "stream",
     "text": [
      "CPU times: user 617 ms, sys: 465 ms, total: 1.08 s\n",
      "Wall time: 953 ms\n"
     ]
    }
   ],
   "source": [
    "%%time\n",
    "df1 = pd.read_feather(\"pandas.feather\")"
   ]
  },
  {
   "cell_type": "code",
   "execution_count": 29,
   "id": "bb8c247d-8db4-42bb-a803-470e52876f44",
   "metadata": {},
   "outputs": [
    {
     "name": "stdout",
     "output_type": "stream",
     "text": [
      "peak memory: 2898.86 MiB, increment: 750.05 MiB\n"
     ]
    }
   ],
   "source": [
    "%%memit\n",
    "df1 = pd.read_feather(\"pandas.feather\")"
   ]
  },
  {
   "cell_type": "markdown",
   "id": "e0e192f1-93c5-4ce5-b870-f6d00382ab36",
   "metadata": {},
   "source": [
    "## More excercices"
   ]
  },
  {
   "cell_type": "markdown",
   "id": "59153d70-bd3c-4ec1-8dcf-6aacca10236d",
   "metadata": {},
   "source": [
    "### 1. Plot the benchmark results"
   ]
  },
  {
   "cell_type": "markdown",
   "id": "9ad85f1c-b259-4549-a78e-d76e18f88bad",
   "metadata": {},
   "source": [
    "### 2. Analyze the influence of the compression in reading and writing"
   ]
  },
  {
   "cell_type": "code",
   "execution_count": null,
   "id": "24ac53a3-9228-4b23-b130-75b1b0daaa90",
   "metadata": {},
   "outputs": [],
   "source": []
  }
 ],
 "metadata": {
  "kernelspec": {
   "display_name": "Python 3 (ipykernel)",
   "language": "python",
   "name": "python3"
  },
  "language_info": {
   "codemirror_mode": {
    "name": "ipython",
    "version": 3
   },
   "file_extension": ".py",
   "mimetype": "text/x-python",
   "name": "python",
   "nbconvert_exporter": "python",
   "pygments_lexer": "ipython3",
   "version": "3.12.9"
  }
 },
 "nbformat": 4,
 "nbformat_minor": 5
}
