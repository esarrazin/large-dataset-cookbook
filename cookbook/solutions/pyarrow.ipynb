{
 "cells": [
  {
   "cell_type": "markdown",
   "id": "dd029b89-988b-43f9-b1eb-e6fabf064593",
   "metadata": {},
   "source": [
    "# Pandas and Pyarrow"
   ]
  },
  {
   "cell_type": "code",
   "execution_count": 1,
   "id": "ac0cab5e-acb4-44df-873b-bf4b100a3432",
   "metadata": {},
   "outputs": [],
   "source": [
    "import random\n",
    "import string\n",
    "import numpy as np\n",
    "import pandas as pd\n",
    "from datetime import datetime\n",
    "import pathlib\n",
    "import pyarrow as pa\n",
    "import pyarrow.csv \n",
    "%load_ext memory_profiler"
   ]
  },
  {
   "cell_type": "markdown",
   "id": "1b04c030-c712-4b0e-b940-1752858be0ad",
   "metadata": {},
   "source": [
    "Create a large dataset"
   ]
  },
  {
   "cell_type": "code",
   "execution_count": 2,
   "id": "a5506bb7-5ecc-4183-a040-c9976ba73a5c",
   "metadata": {},
   "outputs": [
    {
     "name": "stdout",
     "output_type": "stream",
     "text": [
      "CPU times: user 9.11 s, sys: 268 ms, total: 9.38 s\n",
      "Wall time: 9.4 s\n"
     ]
    }
   ],
   "source": [
    "%%time\n",
    "def gen_random_string(length:int=32) -> str:\n",
    "    return ''.join(random.choices(string.ascii_uppercase + string.digits, k=length))\n",
    "    \n",
    "def make_timeseries(start=\"2000-01-01\", end=\"2000-12-31\", freq=\"1D\", seed=None):\n",
    "\n",
    "    dt = pd.date_range(start=start, end=end, freq=freq, name=\"timestamp\")\n",
    "    n = len(dt)\n",
    "    np.random.seed = seed\n",
    "    columns = {\n",
    "        'date': dt,\n",
    "        'cat': np.random.choice(['cat1','cat2','cat3','cat4','cat5'],n),\n",
    "        'str1':[gen_random_string() for _ in range(n)],\n",
    "        'str2':[gen_random_string() for _ in range(n)],\n",
    "        'a': np.random.rand(n),\n",
    "        'b': np.random.rand(n),\n",
    "        'c': np.random.randint(1,100,n),\n",
    "    }\n",
    "\n",
    "    df = pd.DataFrame(columns, columns=columns)\n",
    "    if df.index[-1] == end:\n",
    "        df = df.iloc[:-1]\n",
    "    return df\n",
    "\n",
    "df = make_timeseries(start=datetime(2020,1,1), end=datetime(2023,12,31), freq='1min', seed=10)"
   ]
  },
  {
   "cell_type": "markdown",
   "id": "4411cf70-5f2b-4c33-999f-9a84045a793d",
   "metadata": {},
   "source": [
    "Print the fisrt rows to see what the data looks like."
   ]
  },
  {
   "cell_type": "code",
   "execution_count": 3,
   "id": "d810f3ef-6934-49ef-9054-755498c7ff73",
   "metadata": {},
   "outputs": [
    {
     "data": {
      "text/html": [
       "<div>\n",
       "<style scoped>\n",
       "    .dataframe tbody tr th:only-of-type {\n",
       "        vertical-align: middle;\n",
       "    }\n",
       "\n",
       "    .dataframe tbody tr th {\n",
       "        vertical-align: top;\n",
       "    }\n",
       "\n",
       "    .dataframe thead th {\n",
       "        text-align: right;\n",
       "    }\n",
       "</style>\n",
       "<table border=\"1\" class=\"dataframe\">\n",
       "  <thead>\n",
       "    <tr style=\"text-align: right;\">\n",
       "      <th></th>\n",
       "      <th>date</th>\n",
       "      <th>cat</th>\n",
       "      <th>str1</th>\n",
       "      <th>str2</th>\n",
       "      <th>a</th>\n",
       "      <th>b</th>\n",
       "      <th>c</th>\n",
       "    </tr>\n",
       "  </thead>\n",
       "  <tbody>\n",
       "    <tr>\n",
       "      <th>0</th>\n",
       "      <td>2020-01-01 00:00:00</td>\n",
       "      <td>cat2</td>\n",
       "      <td>73CM59C2JRCYKU97QRD0E4YA50T14RQG</td>\n",
       "      <td>T2BTG6BSWUV6WTJ2VRE37NDKZN5SEHK9</td>\n",
       "      <td>0.068295</td>\n",
       "      <td>0.508177</td>\n",
       "      <td>16</td>\n",
       "    </tr>\n",
       "    <tr>\n",
       "      <th>1</th>\n",
       "      <td>2020-01-01 00:01:00</td>\n",
       "      <td>cat5</td>\n",
       "      <td>62MEURYEVBEZA6BAZ8L1O9QJLTN1RP0B</td>\n",
       "      <td>ENE2OO4VP0XKP95GMI8DDBZ2EPYLB183</td>\n",
       "      <td>0.232802</td>\n",
       "      <td>0.514414</td>\n",
       "      <td>16</td>\n",
       "    </tr>\n",
       "    <tr>\n",
       "      <th>2</th>\n",
       "      <td>2020-01-01 00:02:00</td>\n",
       "      <td>cat5</td>\n",
       "      <td>NPYJU967P9W1Q59DKM2NALOT4KSMEGBC</td>\n",
       "      <td>BKAPXFGA95R5WBCVGZJIPN9T4L9RZAHJ</td>\n",
       "      <td>0.615268</td>\n",
       "      <td>0.229465</td>\n",
       "      <td>5</td>\n",
       "    </tr>\n",
       "    <tr>\n",
       "      <th>3</th>\n",
       "      <td>2020-01-01 00:03:00</td>\n",
       "      <td>cat3</td>\n",
       "      <td>WKDM4RTW70TIDJTZ1U8I1T2E6E481GKK</td>\n",
       "      <td>AF5YKLV99L14CLPOJBQ7RY25HS1OQSSB</td>\n",
       "      <td>0.059176</td>\n",
       "      <td>0.511924</td>\n",
       "      <td>4</td>\n",
       "    </tr>\n",
       "    <tr>\n",
       "      <th>4</th>\n",
       "      <td>2020-01-01 00:04:00</td>\n",
       "      <td>cat1</td>\n",
       "      <td>VH5SNZMQ4CF2A9EFUA25D2XU4XX504FW</td>\n",
       "      <td>SNUEJJ1ZMW20LQAFS1JTXBBQV6XQZ9LU</td>\n",
       "      <td>0.381258</td>\n",
       "      <td>0.968041</td>\n",
       "      <td>28</td>\n",
       "    </tr>\n",
       "  </tbody>\n",
       "</table>\n",
       "</div>"
      ],
      "text/plain": [
       "                 date   cat                              str1  \\\n",
       "0 2020-01-01 00:00:00  cat2  73CM59C2JRCYKU97QRD0E4YA50T14RQG   \n",
       "1 2020-01-01 00:01:00  cat5  62MEURYEVBEZA6BAZ8L1O9QJLTN1RP0B   \n",
       "2 2020-01-01 00:02:00  cat5  NPYJU967P9W1Q59DKM2NALOT4KSMEGBC   \n",
       "3 2020-01-01 00:03:00  cat3  WKDM4RTW70TIDJTZ1U8I1T2E6E481GKK   \n",
       "4 2020-01-01 00:04:00  cat1  VH5SNZMQ4CF2A9EFUA25D2XU4XX504FW   \n",
       "\n",
       "                               str2         a         b   c  \n",
       "0  T2BTG6BSWUV6WTJ2VRE37NDKZN5SEHK9  0.068295  0.508177  16  \n",
       "1  ENE2OO4VP0XKP95GMI8DDBZ2EPYLB183  0.232802  0.514414  16  \n",
       "2  BKAPXFGA95R5WBCVGZJIPN9T4L9RZAHJ  0.615268  0.229465   5  \n",
       "3  AF5YKLV99L14CLPOJBQ7RY25HS1OQSSB  0.059176  0.511924   4  \n",
       "4  SNUEJJ1ZMW20LQAFS1JTXBBQV6XQZ9LU  0.381258  0.968041  28  "
      ]
     },
     "execution_count": 3,
     "metadata": {},
     "output_type": "execute_result"
    }
   ],
   "source": [
    "df.head()"
   ]
  },
  {
   "cell_type": "markdown",
   "id": "6f62bf15-dbfa-4901-8659-9a1b823becd8",
   "metadata": {},
   "source": [
    "Print the shape of the dataframe"
   ]
  },
  {
   "cell_type": "code",
   "execution_count": 4,
   "id": "600e2498-30ff-4a76-b089-38f6b0280bf2",
   "metadata": {},
   "outputs": [
    {
     "data": {
      "text/plain": [
       "(2102401, 7)"
      ]
     },
     "execution_count": 4,
     "metadata": {},
     "output_type": "execute_result"
    }
   ],
   "source": [
    "df.shape"
   ]
  },
  {
   "cell_type": "markdown",
   "id": "deca93c4-0cff-4857-a791-1a16c45cc2bf",
   "metadata": {},
   "source": [
    "Print memory usage of the dataframe "
   ]
  },
  {
   "cell_type": "code",
   "execution_count": 5,
   "id": "fd89625d-7d55-470a-8346-12c177e4c7bc",
   "metadata": {},
   "outputs": [
    {
     "name": "stdout",
     "output_type": "stream",
     "text": [
      "<class 'pandas.core.frame.DataFrame'>\n",
      "RangeIndex: 2102401 entries, 0 to 2102400\n",
      "Data columns (total 7 columns):\n",
      " #   Column  Dtype         \n",
      "---  ------  -----         \n",
      " 0   date    datetime64[ns]\n",
      " 1   cat     object        \n",
      " 2   str1    object        \n",
      " 3   str2    object        \n",
      " 4   a       float64       \n",
      " 5   b       float64       \n",
      " 6   c       int64         \n",
      "dtypes: datetime64[ns](1), float64(2), int64(1), object(3)\n",
      "memory usage: 495.2 MB\n"
     ]
    }
   ],
   "source": [
    "df.info(memory_usage=\"deep\")"
   ]
  },
  {
   "cell_type": "markdown",
   "id": "70e0d18e-715b-443f-a728-d7bdeac52c79",
   "metadata": {},
   "source": [
    "## Write and read the dataframe in CSV format "
   ]
  },
  {
   "cell_type": "markdown",
   "id": "860a0980-1c08-45ee-b2b7-78b6d59e80a2",
   "metadata": {},
   "source": [
    "First we will time reading and writing the dataframe in CSV format, in order to compare the performance of pyarrow."
   ]
  },
  {
   "cell_type": "markdown",
   "id": "94baba01-f1d2-4178-8c74-06b1df9d850d",
   "metadata": {},
   "source": [
    "Write dataframe in CSF format"
   ]
  },
  {
   "cell_type": "code",
   "execution_count": 6,
   "id": "ce2b07d7-c272-4eae-be8e-ea8f392a3340",
   "metadata": {},
   "outputs": [
    {
     "name": "stdout",
     "output_type": "stream",
     "text": [
      "CPU times: user 3 μs, sys: 0 ns, total: 3 μs\n",
      "Wall time: 4.77 μs\n"
     ]
    }
   ],
   "source": [
    "%%time\n",
    "# TODO"
   ]
  },
  {
   "cell_type": "code",
   "execution_count": 7,
   "id": "5c2de258-ac02-4ee7-9a7f-53af57a4be12",
   "metadata": {},
   "outputs": [
    {
     "name": "stdout",
     "output_type": "stream",
     "text": [
      "CPU times: user 6.54 s, sys: 133 ms, total: 6.68 s\n",
      "Wall time: 6.68 s\n"
     ]
    }
   ],
   "source": [
    "%%time\n",
    "df.to_csv(\"pandas.csv\",index=False)"
   ]
  },
  {
   "cell_type": "markdown",
   "id": "a9fde82d-8d54-4508-a59f-e4fb1bc2acc6",
   "metadata": {},
   "source": [
    "To check the file on the disk, you can use the `stat()`method of `pathlib.Path`."
   ]
  },
  {
   "cell_type": "code",
   "execution_count": 8,
   "id": "b75f35b1-2c9e-41ea-9f9e-3c7cb31c9614",
   "metadata": {},
   "outputs": [],
   "source": [
    "# TODO"
   ]
  },
  {
   "cell_type": "code",
   "execution_count": 9,
   "id": "ba3f96a0-bdb1-4b84-a19c-512a4280c1e2",
   "metadata": {},
   "outputs": [
    {
     "data": {
      "text/plain": [
       "265.55980587005615"
      ]
     },
     "execution_count": 9,
     "metadata": {},
     "output_type": "execute_result"
    }
   ],
   "source": [
    "pathlib.Path(\"pandas.csv\").stat().st_size / 1024 /1024"
   ]
  },
  {
   "cell_type": "markdown",
   "id": "c75ddb1a-c641-47d1-b55b-fd3abcf42c3b",
   "metadata": {},
   "source": [
    "Write dataframe in CSV format with compression"
   ]
  },
  {
   "cell_type": "code",
   "execution_count": 10,
   "id": "56a88323-fec7-42fb-9745-d8145f1fc10b",
   "metadata": {},
   "outputs": [
    {
     "name": "stdout",
     "output_type": "stream",
     "text": [
      "CPU times: user 3 μs, sys: 1 μs, total: 4 μs\n",
      "Wall time: 4.77 μs\n"
     ]
    }
   ],
   "source": [
    "%%time\n",
    "# TODO"
   ]
  },
  {
   "cell_type": "code",
   "execution_count": 11,
   "id": "25d34fbd-3348-4f03-8113-f36e02b4fb7f",
   "metadata": {},
   "outputs": [
    {
     "name": "stdout",
     "output_type": "stream",
     "text": [
      "CPU times: user 24.3 s, sys: 127 ms, total: 24.5 s\n",
      "Wall time: 24.6 s\n"
     ]
    }
   ],
   "source": [
    "%%time\n",
    "df.to_csv(\"pandas.csv.gz\",index=False,compression=\"gzip\")"
   ]
  },
  {
   "cell_type": "markdown",
   "id": "8158bde0-0aaf-424f-bb07-2c2456e99bd2",
   "metadata": {},
   "source": [
    "Check the file size"
   ]
  },
  {
   "cell_type": "code",
   "execution_count": 12,
   "id": "0a3f8b36-3cd6-4a95-a0ca-44fd1fd18ca7",
   "metadata": {},
   "outputs": [],
   "source": [
    "# TODO"
   ]
  },
  {
   "cell_type": "code",
   "execution_count": 13,
   "id": "423353aa-4207-4951-bd6f-7279d594a556",
   "metadata": {},
   "outputs": [
    {
     "data": {
      "text/plain": [
       "149.00873851776123"
      ]
     },
     "execution_count": 13,
     "metadata": {},
     "output_type": "execute_result"
    }
   ],
   "source": [
    "pathlib.Path(\"pandas.csv.gz\").stat().st_size / 1024 /1024"
   ]
  },
  {
   "cell_type": "markdown",
   "id": "061aa184-984f-4702-bb14-a74e28564758",
   "metadata": {},
   "source": [
    "Now, you can try to measure the performance in reading the dataframe in CSV format"
   ]
  },
  {
   "cell_type": "markdown",
   "id": "6faa932f-c2e9-4cff-b082-74645df9df3c",
   "metadata": {},
   "source": [
    "First, try to read the CSV file"
   ]
  },
  {
   "cell_type": "code",
   "execution_count": 14,
   "id": "7113f17c-6e44-4941-bc08-08e13f1fcbdd",
   "metadata": {},
   "outputs": [
    {
     "name": "stdout",
     "output_type": "stream",
     "text": [
      "CPU times: user 3 μs, sys: 0 ns, total: 3 μs\n",
      "Wall time: 4.53 μs\n"
     ]
    }
   ],
   "source": [
    "%%time\n",
    "# TODO"
   ]
  },
  {
   "cell_type": "code",
   "execution_count": 15,
   "id": "224fe3f9-c96e-4a6f-8a38-d181c33552db",
   "metadata": {},
   "outputs": [
    {
     "name": "stdout",
     "output_type": "stream",
     "text": [
      "CPU times: user 2.52 s, sys: 196 ms, total: 2.72 s\n",
      "Wall time: 2.72 s\n"
     ]
    }
   ],
   "source": [
    "%%time\n",
    "df1 = pd.read_csv(\"pandas.csv\")"
   ]
  },
  {
   "cell_type": "markdown",
   "id": "5f8eb838-b085-4deb-a719-0d6d70c416a5",
   "metadata": {},
   "source": [
    "Then, try to read the compressed CSV file"
   ]
  },
  {
   "cell_type": "code",
   "execution_count": 16,
   "id": "f9f848d1-1290-46a4-bf56-19a471e08b6b",
   "metadata": {},
   "outputs": [
    {
     "name": "stdout",
     "output_type": "stream",
     "text": [
      "CPU times: user 2 μs, sys: 0 ns, total: 2 μs\n",
      "Wall time: 2.38 μs\n"
     ]
    }
   ],
   "source": [
    "%%time\n",
    "# TODO"
   ]
  },
  {
   "cell_type": "code",
   "execution_count": 17,
   "id": "c4c85ac1-7693-4600-8fe0-dec8874efdb1",
   "metadata": {},
   "outputs": [
    {
     "name": "stdout",
     "output_type": "stream",
     "text": [
      "CPU times: user 3.72 s, sys: 188 ms, total: 3.91 s\n",
      "Wall time: 3.91 s\n"
     ]
    }
   ],
   "source": [
    "%%time\n",
    "df1 = pd.read_csv(\"pandas.csv.gz\")"
   ]
  },
  {
   "cell_type": "markdown",
   "id": "4c6c4d39-db9f-4fa3-8dba-8c56ce9f44af",
   "metadata": {},
   "source": [
    "## Use pyarrow"
   ]
  },
  {
   "cell_type": "markdown",
   "id": "5fb3a116-3029-41c8-9b10-27070ef904dc",
   "metadata": {},
   "source": [
    "We will time reading and writing the dataframe in CSV format"
   ]
  },
  {
   "cell_type": "markdown",
   "id": "f37c66c3-0cca-4fca-a6c6-93022d1f1b46",
   "metadata": {},
   "source": [
    "First, copy the dataframe."
   ]
  },
  {
   "cell_type": "code",
   "execution_count": 18,
   "id": "1b5836bb-e3b9-4948-8b6d-6f3c826cc488",
   "metadata": {},
   "outputs": [],
   "source": [
    "df_pa = df.copy()"
   ]
  },
  {
   "cell_type": "markdown",
   "id": "331b6c73-b7b8-4c8a-96b1-31baec99d094",
   "metadata": {},
   "source": [
    "Convert the data to pyarrow format"
   ]
  },
  {
   "cell_type": "code",
   "execution_count": 19,
   "id": "d9ce29ef-39a9-4108-8a75-c0f3a5f0ddff",
   "metadata": {},
   "outputs": [],
   "source": [
    "df_pa_table = pa.Table.from_pandas(df_pa)"
   ]
  },
  {
   "cell_type": "code",
   "execution_count": 20,
   "id": "41e41a45-0993-41a0-983a-1881a40a9d33",
   "metadata": {},
   "outputs": [
    {
     "data": {
      "text/plain": [
       "pyarrow.Table\n",
       "date: timestamp[ns]\n",
       "cat: string\n",
       "str1: string\n",
       "str2: string\n",
       "a: double\n",
       "b: double\n",
       "c: int64\n",
       "----\n",
       "date: [[2020-01-01 00:00:00.000000000,2020-01-01 00:01:00.000000000,2020-01-01 00:02:00.000000000,2020-01-01 00:03:00.000000000,2020-01-01 00:04:00.000000000,...,2023-12-30 23:56:00.000000000,2023-12-30 23:57:00.000000000,2023-12-30 23:58:00.000000000,2023-12-30 23:59:00.000000000,2023-12-31 00:00:00.000000000]]\n",
       "cat: [[\"cat2\",\"cat5\",\"cat5\",\"cat3\",\"cat1\",...,\"cat1\",\"cat5\",\"cat4\",\"cat3\",\"cat4\"]]\n",
       "str1: [[\"73CM59C2JRCYKU97QRD0E4YA50T14RQG\",\"62MEURYEVBEZA6BAZ8L1O9QJLTN1RP0B\",\"NPYJU967P9W1Q59DKM2NALOT4KSMEGBC\",\"WKDM4RTW70TIDJTZ1U8I1T2E6E481GKK\",\"VH5SNZMQ4CF2A9EFUA25D2XU4XX504FW\",...,\"Z3A1KWLYZOS6DOI1FYV3LP2S11WTMRHG\",\"9G07GNRCNIMWSYPKOTBJ8UVPMYQM05FE\",\"EKEFQ0LIGP0NTRYWL4FT174V2O3H6EHU\",\"Z72VUJANELOE4IQBSUSKZMQ3D5ZSQZ9N\",\"N8ZEK7UHYD2KTKYWGFF966WEU3LVLVQV\"]]\n",
       "str2: [[\"T2BTG6BSWUV6WTJ2VRE37NDKZN5SEHK9\",\"ENE2OO4VP0XKP95GMI8DDBZ2EPYLB183\",\"BKAPXFGA95R5WBCVGZJIPN9T4L9RZAHJ\",\"AF5YKLV99L14CLPOJBQ7RY25HS1OQSSB\",\"SNUEJJ1ZMW20LQAFS1JTXBBQV6XQZ9LU\",...,\"N8JE1XVL86PXT246YYDICH4SZ2TPIZLJ\",\"VLA3WY46ZUSVC5PBBYEB99SOWZJB2SSD\",\"1R0LE260P7KG99YKITCE72IELSZW1251\",\"A56IL02LFIDKVDLXWKINYFXFH5HWBXJL\",\"HONNQ85FBEZSUDZ02AEQNFEP282CQHSP\"]]\n",
       "a: [[0.06829508881498014,0.23280189809984775,0.6152677937375616,0.05917592193707899,0.38125827332571394,...,0.7833571868347426,0.23330335190296247,0.04147843026049791,0.5316282626325509,0.9531729130902369]]\n",
       "b: [[0.5081771799680106,0.514414129153302,0.22946512810285025,0.5119244712789781,0.9680409104609213,...,0.8400880430225519,0.672310209558707,0.32812261074904125,0.3175261512130061,0.7137683568439602]]\n",
       "c: [[16,16,5,4,28,...,19,52,99,3,10]]"
      ]
     },
     "execution_count": 20,
     "metadata": {},
     "output_type": "execute_result"
    }
   ],
   "source": [
    "df_pa_table"
   ]
  },
  {
   "cell_type": "markdown",
   "id": "0fd2c3f7-53fa-41cf-8dfc-55b48453b0e8",
   "metadata": {},
   "source": [
    "Write the dataframe with the `pyarrow.csv.write_csv` method"
   ]
  },
  {
   "cell_type": "code",
   "execution_count": 21,
   "id": "2fd4c1df-7e01-46be-9a75-c5334bac0d78",
   "metadata": {},
   "outputs": [
    {
     "name": "stdout",
     "output_type": "stream",
     "text": [
      "CPU times: user 2 μs, sys: 0 ns, total: 2 μs\n",
      "Wall time: 4.77 μs\n"
     ]
    }
   ],
   "source": [
    "%%time\n",
    "# TODO"
   ]
  },
  {
   "cell_type": "code",
   "execution_count": 22,
   "id": "c40fe8be-0dd9-4f50-a207-72411a834aec",
   "metadata": {},
   "outputs": [
    {
     "name": "stdout",
     "output_type": "stream",
     "text": [
      "CPU times: user 462 ms, sys: 144 ms, total: 606 ms\n",
      "Wall time: 605 ms\n"
     ]
    }
   ],
   "source": [
    "%%time\n",
    "pyarrow.csv.write_csv(df_pa_table, \"pyarrow.csv\")"
   ]
  },
  {
   "cell_type": "markdown",
   "id": "b7be3ecd-4b86-49c1-901e-5446dac66133",
   "metadata": {},
   "source": [
    "Check the file size"
   ]
  },
  {
   "cell_type": "code",
   "execution_count": 23,
   "id": "46d86465-8132-4de9-8301-5e280d394204",
   "metadata": {},
   "outputs": [],
   "source": [
    "# TODO"
   ]
  },
  {
   "cell_type": "code",
   "execution_count": 24,
   "id": "719e8d06-d9ec-4a33-b870-c3d41b0bf483",
   "metadata": {},
   "outputs": [
    {
     "data": {
      "text/plain": [
       "297.6403512954712"
      ]
     },
     "execution_count": 24,
     "metadata": {},
     "output_type": "execute_result"
    }
   ],
   "source": [
    "pathlib.Path(\"pyarrow.csv\").stat().st_size / 1024 /1024"
   ]
  },
  {
   "cell_type": "markdown",
   "id": "9fffe1c6-eafb-4913-b850-f6bf3c99cb7b",
   "metadata": {},
   "source": [
    "Write the dataframe with compression"
   ]
  },
  {
   "cell_type": "code",
   "execution_count": 25,
   "id": "b82d478d-77da-4c70-80bb-f3926772e721",
   "metadata": {},
   "outputs": [
    {
     "name": "stdout",
     "output_type": "stream",
     "text": [
      "CPU times: user 10.3 s, sys: 91 ms, total: 10.4 s\n",
      "Wall time: 10.4 s\n"
     ]
    }
   ],
   "source": [
    "%%time\n",
    "with pa.CompressedOutputStream(\"pyarrow.csv.gz\",\"gzip\") as out:\n",
    "    pyarrow.csv.write_csv(df_pa_table,out)"
   ]
  },
  {
   "cell_type": "markdown",
   "id": "c22af01a-1dcb-4f0e-8811-3d00676f1bb3",
   "metadata": {},
   "source": [
    "Check the file size"
   ]
  },
  {
   "cell_type": "code",
   "execution_count": 26,
   "id": "c284a7ef-d048-444c-8ab7-ee54fbd442ce",
   "metadata": {},
   "outputs": [],
   "source": [
    "# TODO"
   ]
  },
  {
   "cell_type": "code",
   "execution_count": 27,
   "id": "4b9312a5-d8b3-4d6e-b711-9ebf8bac14eb",
   "metadata": {},
   "outputs": [
    {
     "data": {
      "text/plain": [
       "152.28399658203125"
      ]
     },
     "execution_count": 27,
     "metadata": {},
     "output_type": "execute_result"
    }
   ],
   "source": [
    "pathlib.Path(\"pyarrow.csv.gz\").stat().st_size / 1024 /1024"
   ]
  },
  {
   "cell_type": "markdown",
   "id": "3450a0b8-8974-4686-857a-ae2077836316",
   "metadata": {},
   "source": [
    "Read the dataframe. You can use the parameter `engine=pyarrow` in `pandas.read_csv`."
   ]
  },
  {
   "cell_type": "code",
   "execution_count": 28,
   "id": "d409cf16-8dce-424c-a3c1-9087419815a3",
   "metadata": {},
   "outputs": [
    {
     "name": "stdout",
     "output_type": "stream",
     "text": [
      "CPU times: user 1 μs, sys: 0 ns, total: 1 μs\n",
      "Wall time: 1.91 μs\n"
     ]
    }
   ],
   "source": [
    "%%time\n",
    "# TODO"
   ]
  },
  {
   "cell_type": "code",
   "execution_count": 29,
   "id": "b2f0975d-ac4c-4776-b029-be70e05a63a0",
   "metadata": {},
   "outputs": [
    {
     "name": "stdout",
     "output_type": "stream",
     "text": [
      "CPU times: user 1.59 s, sys: 713 ms, total: 2.3 s\n",
      "Wall time: 958 ms\n"
     ]
    }
   ],
   "source": [
    "%%time \n",
    "df_pa_1 = pd.read_csv(\"pyarrow.csv\",engine=\"pyarrow\")"
   ]
  },
  {
   "cell_type": "code",
   "execution_count": 30,
   "id": "40668c78-2ff9-4acf-be38-9c49e29221fa",
   "metadata": {},
   "outputs": [
    {
     "data": {
      "text/html": [
       "<div>\n",
       "<style scoped>\n",
       "    .dataframe tbody tr th:only-of-type {\n",
       "        vertical-align: middle;\n",
       "    }\n",
       "\n",
       "    .dataframe tbody tr th {\n",
       "        vertical-align: top;\n",
       "    }\n",
       "\n",
       "    .dataframe thead th {\n",
       "        text-align: right;\n",
       "    }\n",
       "</style>\n",
       "<table border=\"1\" class=\"dataframe\">\n",
       "  <thead>\n",
       "    <tr style=\"text-align: right;\">\n",
       "      <th></th>\n",
       "      <th>date</th>\n",
       "      <th>cat</th>\n",
       "      <th>str1</th>\n",
       "      <th>str2</th>\n",
       "      <th>a</th>\n",
       "      <th>b</th>\n",
       "      <th>c</th>\n",
       "    </tr>\n",
       "  </thead>\n",
       "  <tbody>\n",
       "    <tr>\n",
       "      <th>0</th>\n",
       "      <td>2020-01-01 00:00:00</td>\n",
       "      <td>cat2</td>\n",
       "      <td>73CM59C2JRCYKU97QRD0E4YA50T14RQG</td>\n",
       "      <td>T2BTG6BSWUV6WTJ2VRE37NDKZN5SEHK9</td>\n",
       "      <td>0.068295</td>\n",
       "      <td>0.508177</td>\n",
       "      <td>16</td>\n",
       "    </tr>\n",
       "    <tr>\n",
       "      <th>1</th>\n",
       "      <td>2020-01-01 00:01:00</td>\n",
       "      <td>cat5</td>\n",
       "      <td>62MEURYEVBEZA6BAZ8L1O9QJLTN1RP0B</td>\n",
       "      <td>ENE2OO4VP0XKP95GMI8DDBZ2EPYLB183</td>\n",
       "      <td>0.232802</td>\n",
       "      <td>0.514414</td>\n",
       "      <td>16</td>\n",
       "    </tr>\n",
       "    <tr>\n",
       "      <th>2</th>\n",
       "      <td>2020-01-01 00:02:00</td>\n",
       "      <td>cat5</td>\n",
       "      <td>NPYJU967P9W1Q59DKM2NALOT4KSMEGBC</td>\n",
       "      <td>BKAPXFGA95R5WBCVGZJIPN9T4L9RZAHJ</td>\n",
       "      <td>0.615268</td>\n",
       "      <td>0.229465</td>\n",
       "      <td>5</td>\n",
       "    </tr>\n",
       "    <tr>\n",
       "      <th>3</th>\n",
       "      <td>2020-01-01 00:03:00</td>\n",
       "      <td>cat3</td>\n",
       "      <td>WKDM4RTW70TIDJTZ1U8I1T2E6E481GKK</td>\n",
       "      <td>AF5YKLV99L14CLPOJBQ7RY25HS1OQSSB</td>\n",
       "      <td>0.059176</td>\n",
       "      <td>0.511924</td>\n",
       "      <td>4</td>\n",
       "    </tr>\n",
       "    <tr>\n",
       "      <th>4</th>\n",
       "      <td>2020-01-01 00:04:00</td>\n",
       "      <td>cat1</td>\n",
       "      <td>VH5SNZMQ4CF2A9EFUA25D2XU4XX504FW</td>\n",
       "      <td>SNUEJJ1ZMW20LQAFS1JTXBBQV6XQZ9LU</td>\n",
       "      <td>0.381258</td>\n",
       "      <td>0.968041</td>\n",
       "      <td>28</td>\n",
       "    </tr>\n",
       "  </tbody>\n",
       "</table>\n",
       "</div>"
      ],
      "text/plain": [
       "                 date   cat                              str1  \\\n",
       "0 2020-01-01 00:00:00  cat2  73CM59C2JRCYKU97QRD0E4YA50T14RQG   \n",
       "1 2020-01-01 00:01:00  cat5  62MEURYEVBEZA6BAZ8L1O9QJLTN1RP0B   \n",
       "2 2020-01-01 00:02:00  cat5  NPYJU967P9W1Q59DKM2NALOT4KSMEGBC   \n",
       "3 2020-01-01 00:03:00  cat3  WKDM4RTW70TIDJTZ1U8I1T2E6E481GKK   \n",
       "4 2020-01-01 00:04:00  cat1  VH5SNZMQ4CF2A9EFUA25D2XU4XX504FW   \n",
       "\n",
       "                               str2         a         b   c  \n",
       "0  T2BTG6BSWUV6WTJ2VRE37NDKZN5SEHK9  0.068295  0.508177  16  \n",
       "1  ENE2OO4VP0XKP95GMI8DDBZ2EPYLB183  0.232802  0.514414  16  \n",
       "2  BKAPXFGA95R5WBCVGZJIPN9T4L9RZAHJ  0.615268  0.229465   5  \n",
       "3  AF5YKLV99L14CLPOJBQ7RY25HS1OQSSB  0.059176  0.511924   4  \n",
       "4  SNUEJJ1ZMW20LQAFS1JTXBBQV6XQZ9LU  0.381258  0.968041  28  "
      ]
     },
     "execution_count": 30,
     "metadata": {},
     "output_type": "execute_result"
    }
   ],
   "source": [
    "df_pa_1.head()"
   ]
  },
  {
   "cell_type": "code",
   "execution_count": 31,
   "id": "edd4f2f0-3c25-4b64-a357-1c6b78fdbfb3",
   "metadata": {},
   "outputs": [
    {
     "name": "stdout",
     "output_type": "stream",
     "text": [
      "CPU times: user 2.66 s, sys: 445 ms, total: 3.1 s\n",
      "Wall time: 2.04 s\n"
     ]
    }
   ],
   "source": [
    "%%time \n",
    "df_pa_1 = pd.read_csv(\"pyarrow.csv.gz\",engine=\"pyarrow\")"
   ]
  },
  {
   "cell_type": "code",
   "execution_count": 32,
   "id": "a86ff50e-ec87-4e36-92a2-cf18494742f1",
   "metadata": {},
   "outputs": [
    {
     "data": {
      "text/html": [
       "<div>\n",
       "<style scoped>\n",
       "    .dataframe tbody tr th:only-of-type {\n",
       "        vertical-align: middle;\n",
       "    }\n",
       "\n",
       "    .dataframe tbody tr th {\n",
       "        vertical-align: top;\n",
       "    }\n",
       "\n",
       "    .dataframe thead th {\n",
       "        text-align: right;\n",
       "    }\n",
       "</style>\n",
       "<table border=\"1\" class=\"dataframe\">\n",
       "  <thead>\n",
       "    <tr style=\"text-align: right;\">\n",
       "      <th></th>\n",
       "      <th>date</th>\n",
       "      <th>cat</th>\n",
       "      <th>str1</th>\n",
       "      <th>str2</th>\n",
       "      <th>a</th>\n",
       "      <th>b</th>\n",
       "      <th>c</th>\n",
       "    </tr>\n",
       "  </thead>\n",
       "  <tbody>\n",
       "    <tr>\n",
       "      <th>0</th>\n",
       "      <td>2020-01-01 00:00:00</td>\n",
       "      <td>cat2</td>\n",
       "      <td>73CM59C2JRCYKU97QRD0E4YA50T14RQG</td>\n",
       "      <td>T2BTG6BSWUV6WTJ2VRE37NDKZN5SEHK9</td>\n",
       "      <td>0.068295</td>\n",
       "      <td>0.508177</td>\n",
       "      <td>16</td>\n",
       "    </tr>\n",
       "    <tr>\n",
       "      <th>1</th>\n",
       "      <td>2020-01-01 00:01:00</td>\n",
       "      <td>cat5</td>\n",
       "      <td>62MEURYEVBEZA6BAZ8L1O9QJLTN1RP0B</td>\n",
       "      <td>ENE2OO4VP0XKP95GMI8DDBZ2EPYLB183</td>\n",
       "      <td>0.232802</td>\n",
       "      <td>0.514414</td>\n",
       "      <td>16</td>\n",
       "    </tr>\n",
       "    <tr>\n",
       "      <th>2</th>\n",
       "      <td>2020-01-01 00:02:00</td>\n",
       "      <td>cat5</td>\n",
       "      <td>NPYJU967P9W1Q59DKM2NALOT4KSMEGBC</td>\n",
       "      <td>BKAPXFGA95R5WBCVGZJIPN9T4L9RZAHJ</td>\n",
       "      <td>0.615268</td>\n",
       "      <td>0.229465</td>\n",
       "      <td>5</td>\n",
       "    </tr>\n",
       "    <tr>\n",
       "      <th>3</th>\n",
       "      <td>2020-01-01 00:03:00</td>\n",
       "      <td>cat3</td>\n",
       "      <td>WKDM4RTW70TIDJTZ1U8I1T2E6E481GKK</td>\n",
       "      <td>AF5YKLV99L14CLPOJBQ7RY25HS1OQSSB</td>\n",
       "      <td>0.059176</td>\n",
       "      <td>0.511924</td>\n",
       "      <td>4</td>\n",
       "    </tr>\n",
       "    <tr>\n",
       "      <th>4</th>\n",
       "      <td>2020-01-01 00:04:00</td>\n",
       "      <td>cat1</td>\n",
       "      <td>VH5SNZMQ4CF2A9EFUA25D2XU4XX504FW</td>\n",
       "      <td>SNUEJJ1ZMW20LQAFS1JTXBBQV6XQZ9LU</td>\n",
       "      <td>0.381258</td>\n",
       "      <td>0.968041</td>\n",
       "      <td>28</td>\n",
       "    </tr>\n",
       "  </tbody>\n",
       "</table>\n",
       "</div>"
      ],
      "text/plain": [
       "                 date   cat                              str1  \\\n",
       "0 2020-01-01 00:00:00  cat2  73CM59C2JRCYKU97QRD0E4YA50T14RQG   \n",
       "1 2020-01-01 00:01:00  cat5  62MEURYEVBEZA6BAZ8L1O9QJLTN1RP0B   \n",
       "2 2020-01-01 00:02:00  cat5  NPYJU967P9W1Q59DKM2NALOT4KSMEGBC   \n",
       "3 2020-01-01 00:03:00  cat3  WKDM4RTW70TIDJTZ1U8I1T2E6E481GKK   \n",
       "4 2020-01-01 00:04:00  cat1  VH5SNZMQ4CF2A9EFUA25D2XU4XX504FW   \n",
       "\n",
       "                               str2         a         b   c  \n",
       "0  T2BTG6BSWUV6WTJ2VRE37NDKZN5SEHK9  0.068295  0.508177  16  \n",
       "1  ENE2OO4VP0XKP95GMI8DDBZ2EPYLB183  0.232802  0.514414  16  \n",
       "2  BKAPXFGA95R5WBCVGZJIPN9T4L9RZAHJ  0.615268  0.229465   5  \n",
       "3  AF5YKLV99L14CLPOJBQ7RY25HS1OQSSB  0.059176  0.511924   4  \n",
       "4  SNUEJJ1ZMW20LQAFS1JTXBBQV6XQZ9LU  0.381258  0.968041  28  "
      ]
     },
     "execution_count": 32,
     "metadata": {},
     "output_type": "execute_result"
    }
   ],
   "source": [
    "df_pa_1.head()"
   ]
  },
  {
   "cell_type": "code",
   "execution_count": 33,
   "id": "92557341-a652-4dc3-bc86-3c7a0b3d78be",
   "metadata": {},
   "outputs": [
    {
     "data": {
      "text/plain": [
       "Index          132\n",
       "date      16819208\n",
       "cat      111427253\n",
       "str1     170294481\n",
       "str2     170294481\n",
       "a         16819208\n",
       "b         16819208\n",
       "c         16819208\n",
       "dtype: int64"
      ]
     },
     "execution_count": 33,
     "metadata": {},
     "output_type": "execute_result"
    }
   ],
   "source": [
    "df_pa_1.memory_usage(deep=True)"
   ]
  },
  {
   "cell_type": "markdown",
   "id": "089f285f-587a-4f22-b9d4-a6b8e28eac08",
   "metadata": {},
   "source": [
    "## Convert to pyarrow types"
   ]
  },
  {
   "cell_type": "markdown",
   "id": "99a36bd4-b8ad-4d19-a8a6-0ef6576f9249",
   "metadata": {},
   "source": [
    "It is also possible to use Pyarrow type PyArrow data structure integration is implemented through pandas’ ExtensionArray interface.\n",
    "Using Pyarrow datatypes enable to accelerate processing with PyArrow compute functions where available."
   ]
  },
  {
   "cell_type": "code",
   "execution_count": 34,
   "id": "ebf298d7-c851-4cbd-b68e-37417e2b66dc",
   "metadata": {},
   "outputs": [],
   "source": [
    "df_pa = df.copy()"
   ]
  },
  {
   "cell_type": "code",
   "execution_count": 35,
   "id": "537acc34-3c31-4a9c-9cd8-0221ed3c98db",
   "metadata": {},
   "outputs": [
    {
     "data": {
      "text/plain": [
       "Index(['date', 'cat', 'str1', 'str2', 'a', 'b', 'c'], dtype='object')"
      ]
     },
     "execution_count": 35,
     "metadata": {},
     "output_type": "execute_result"
    }
   ],
   "source": [
    "df_pa.columns"
   ]
  },
  {
   "cell_type": "markdown",
   "id": "7b7ebcdf-49be-46da-9e67-c6aa6ac92060",
   "metadata": {},
   "source": [
    "Try to convert types with Pyarrow types."
   ]
  },
  {
   "cell_type": "code",
   "execution_count": 36,
   "id": "2d95104d-5099-4bc5-ad38-2b85701c3884",
   "metadata": {},
   "outputs": [],
   "source": [
    "# TODO"
   ]
  },
  {
   "cell_type": "code",
   "execution_count": 37,
   "id": "44cdbd61-7b20-4fb3-813e-271723c9e35b",
   "metadata": {},
   "outputs": [],
   "source": [
    "df_pa[\"a\"] = df_pa[\"a\"].astype(\"float64[pyarrow]\")\n",
    "df_pa[\"b\"] = df_pa[\"b\"].astype(\"float64[pyarrow]\")\n",
    "df_pa[\"c\"] = df_pa[\"c\"].astype(\"int16[pyarrow]\")"
   ]
  },
  {
   "cell_type": "markdown",
   "id": "4fde4708-7578-47ec-9b41-7a46a80bed30",
   "metadata": {},
   "source": [
    "Check the types of the columns"
   ]
  },
  {
   "cell_type": "code",
   "execution_count": 38,
   "id": "edfa6190-aec4-464b-a477-47fe4c9ed0c6",
   "metadata": {},
   "outputs": [
    {
     "data": {
      "text/plain": [
       "date     datetime64[ns]\n",
       "cat              object\n",
       "str1             object\n",
       "str2             object\n",
       "a       double[pyarrow]\n",
       "b       double[pyarrow]\n",
       "c        int16[pyarrow]\n",
       "dtype: object"
      ]
     },
     "execution_count": 38,
     "metadata": {},
     "output_type": "execute_result"
    }
   ],
   "source": [
    "df_pa.dtypes"
   ]
  },
  {
   "cell_type": "code",
   "execution_count": 39,
   "id": "a36b497e-932d-46e8-9c84-c782b211af14",
   "metadata": {},
   "outputs": [
    {
     "data": {
      "text/plain": [
       "Index          132\n",
       "date      16819208\n",
       "cat      111427253\n",
       "str1     170294481\n",
       "str2     170294481\n",
       "a         16819208\n",
       "b         16819208\n",
       "c          4204802\n",
       "dtype: int64"
      ]
     },
     "execution_count": 39,
     "metadata": {},
     "output_type": "execute_result"
    }
   ],
   "source": [
    "df_pa.memory_usage(deep=True)"
   ]
  },
  {
   "cell_type": "code",
   "execution_count": null,
   "id": "c3f10748-02a1-4c02-975f-cd5658194f9a",
   "metadata": {},
   "outputs": [],
   "source": []
  }
 ],
 "metadata": {
  "kernelspec": {
   "display_name": "Python 3 (ipykernel)",
   "language": "python",
   "name": "python3"
  },
  "language_info": {
   "codemirror_mode": {
    "name": "ipython",
    "version": 3
   },
   "file_extension": ".py",
   "mimetype": "text/x-python",
   "name": "python",
   "nbconvert_exporter": "python",
   "pygments_lexer": "ipython3",
   "version": "3.12.9"
  }
 },
 "nbformat": 4,
 "nbformat_minor": 5
}
