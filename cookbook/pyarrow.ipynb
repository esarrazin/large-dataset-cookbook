{
 "cells": [
  {
   "cell_type": "markdown",
   "id": "dd029b89-988b-43f9-b1eb-e6fabf064593",
   "metadata": {},
   "source": [
    "# Pandas and Pyarrow"
   ]
  },
  {
   "cell_type": "code",
   "execution_count": null,
   "id": "ac0cab5e-acb4-44df-873b-bf4b100a3432",
   "metadata": {},
   "outputs": [],
   "source": [
    "import random\n",
    "import string\n",
    "import numpy as np\n",
    "import pandas as pd\n",
    "from datetime import datetime\n",
    "import pathlib\n",
    "import pyarrow as pa\n",
    "import pyarrow.csv \n",
    "%load_ext memory_profiler"
   ]
  },
  {
   "cell_type": "markdown",
   "id": "1b04c030-c712-4b0e-b940-1752858be0ad",
   "metadata": {},
   "source": [
    "Create a large dataset"
   ]
  },
  {
   "cell_type": "code",
   "execution_count": null,
   "id": "a5506bb7-5ecc-4183-a040-c9976ba73a5c",
   "metadata": {},
   "outputs": [],
   "source": [
    "%%time\n",
    "def gen_random_string(length:int=32) -> str:\n",
    "    return ''.join(random.choices(string.ascii_uppercase + string.digits, k=length))\n",
    "    \n",
    "def make_timeseries(start=\"2000-01-01\", end=\"2000-12-31\", freq=\"1D\", seed=None):\n",
    "\n",
    "    dt = pd.date_range(start=start, end=end, freq=freq, name=\"timestamp\")\n",
    "    n = len(dt)\n",
    "    np.random.seed = seed\n",
    "    columns = {\n",
    "        'date': dt,\n",
    "        'cat': np.random.choice(['cat1','cat2','cat3','cat4','cat5'],n),\n",
    "        'str1':[gen_random_string() for _ in range(n)],\n",
    "        'str2':[gen_random_string() for _ in range(n)],\n",
    "        'a': np.random.rand(n),\n",
    "        'b': np.random.rand(n),\n",
    "        'c': np.random.randint(1,100,n),\n",
    "    }\n",
    "\n",
    "    df = pd.DataFrame(columns, columns=columns)\n",
    "    if df.index[-1] == end:\n",
    "        df = df.iloc[:-1]\n",
    "    return df\n",
    "\n",
    "df = make_timeseries(start=datetime(2020,1,1), end=datetime(2023,12,31), freq='1min', seed=10)"
   ]
  },
  {
   "cell_type": "markdown",
   "id": "4411cf70-5f2b-4c33-999f-9a84045a793d",
   "metadata": {},
   "source": [
    "Print the fisrt rows to see what the data looks like."
   ]
  },
  {
   "cell_type": "code",
   "execution_count": null,
   "id": "d810f3ef-6934-49ef-9054-755498c7ff73",
   "metadata": {},
   "outputs": [],
   "source": [
    "df.head()"
   ]
  },
  {
   "cell_type": "markdown",
   "id": "6f62bf15-dbfa-4901-8659-9a1b823becd8",
   "metadata": {},
   "source": [
    "Print the shape of the dataframe"
   ]
  },
  {
   "cell_type": "code",
   "execution_count": null,
   "id": "600e2498-30ff-4a76-b089-38f6b0280bf2",
   "metadata": {},
   "outputs": [],
   "source": [
    "df.shape"
   ]
  },
  {
   "cell_type": "markdown",
   "id": "deca93c4-0cff-4857-a791-1a16c45cc2bf",
   "metadata": {},
   "source": [
    "Print memory usage of the dataframe "
   ]
  },
  {
   "cell_type": "code",
   "execution_count": null,
   "id": "fd89625d-7d55-470a-8346-12c177e4c7bc",
   "metadata": {},
   "outputs": [],
   "source": [
    "df.info(memory_usage=\"deep\")"
   ]
  },
  {
   "cell_type": "markdown",
   "id": "70e0d18e-715b-443f-a728-d7bdeac52c79",
   "metadata": {},
   "source": [
    "## Write and read the dataframe in CSV format "
   ]
  },
  {
   "cell_type": "markdown",
   "id": "860a0980-1c08-45ee-b2b7-78b6d59e80a2",
   "metadata": {},
   "source": [
    "First we will time reading and writing the dataframe in CSV format, in order to compare the performance of pyarrow."
   ]
  },
  {
   "cell_type": "markdown",
   "id": "94baba01-f1d2-4178-8c74-06b1df9d850d",
   "metadata": {},
   "source": [
    "Write dataframe in CSF format"
   ]
  },
  {
   "cell_type": "code",
   "execution_count": null,
   "id": "ce2b07d7-c272-4eae-be8e-ea8f392a3340",
   "metadata": {},
   "outputs": [],
   "source": [
    "%%time\n",
    "# TODO"
   ]
  },
  {
   "cell_type": "markdown",
   "id": "a9fde82d-8d54-4508-a59f-e4fb1bc2acc6",
   "metadata": {},
   "source": [
    "To check the file on the disk, you can use the `stat()`method of `pathlib.Path`."
   ]
  },
  {
   "cell_type": "code",
   "execution_count": null,
   "id": "b75f35b1-2c9e-41ea-9f9e-3c7cb31c9614",
   "metadata": {},
   "outputs": [],
   "source": [
    "# TODO"
   ]
  },
  {
   "cell_type": "markdown",
   "id": "c75ddb1a-c641-47d1-b55b-fd3abcf42c3b",
   "metadata": {},
   "source": [
    "Write dataframe in CSV format with compression"
   ]
  },
  {
   "cell_type": "code",
   "execution_count": null,
   "id": "56a88323-fec7-42fb-9745-d8145f1fc10b",
   "metadata": {},
   "outputs": [],
   "source": [
    "%%time\n",
    "# TODO"
   ]
  },
  {
   "cell_type": "markdown",
   "id": "8158bde0-0aaf-424f-bb07-2c2456e99bd2",
   "metadata": {},
   "source": [
    "Check the file size"
   ]
  },
  {
   "cell_type": "code",
   "execution_count": null,
   "id": "0a3f8b36-3cd6-4a95-a0ca-44fd1fd18ca7",
   "metadata": {},
   "outputs": [],
   "source": [
    "# TODO"
   ]
  },
  {
   "cell_type": "markdown",
   "id": "061aa184-984f-4702-bb14-a74e28564758",
   "metadata": {},
   "source": [
    "Now, you can try to measure the performance in reading the dataframe in CSV format"
   ]
  },
  {
   "cell_type": "markdown",
   "id": "6faa932f-c2e9-4cff-b082-74645df9df3c",
   "metadata": {},
   "source": [
    "First, try to read the CSV file"
   ]
  },
  {
   "cell_type": "code",
   "execution_count": null,
   "id": "7113f17c-6e44-4941-bc08-08e13f1fcbdd",
   "metadata": {},
   "outputs": [],
   "source": [
    "%%time\n",
    "# TODO"
   ]
  },
  {
   "cell_type": "markdown",
   "id": "5f8eb838-b085-4deb-a719-0d6d70c416a5",
   "metadata": {},
   "source": [
    "Then, try to read the compressed CSV file"
   ]
  },
  {
   "cell_type": "code",
   "execution_count": null,
   "id": "f9f848d1-1290-46a4-bf56-19a471e08b6b",
   "metadata": {},
   "outputs": [],
   "source": [
    "%%time\n",
    "# TODO"
   ]
  },
  {
   "cell_type": "markdown",
   "id": "4c6c4d39-db9f-4fa3-8dba-8c56ce9f44af",
   "metadata": {},
   "source": [
    "## Use pyarrow"
   ]
  },
  {
   "cell_type": "markdown",
   "id": "5fb3a116-3029-41c8-9b10-27070ef904dc",
   "metadata": {},
   "source": [
    "We will time reading and writing the dataframe in CSV format"
   ]
  },
  {
   "cell_type": "markdown",
   "id": "f37c66c3-0cca-4fca-a6c6-93022d1f1b46",
   "metadata": {},
   "source": [
    "First, copy the dataframe."
   ]
  },
  {
   "cell_type": "code",
   "execution_count": null,
   "id": "1b5836bb-e3b9-4948-8b6d-6f3c826cc488",
   "metadata": {},
   "outputs": [],
   "source": [
    "df_pa = df.copy()"
   ]
  },
  {
   "cell_type": "markdown",
   "id": "331b6c73-b7b8-4c8a-96b1-31baec99d094",
   "metadata": {},
   "source": [
    "Convert the data to pyarrow format"
   ]
  },
  {
   "cell_type": "code",
   "execution_count": null,
   "id": "d9ce29ef-39a9-4108-8a75-c0f3a5f0ddff",
   "metadata": {},
   "outputs": [],
   "source": [
    "df_pa_table = pa.Table.from_pandas(df_pa)"
   ]
  },
  {
   "cell_type": "code",
   "execution_count": null,
   "id": "41e41a45-0993-41a0-983a-1881a40a9d33",
   "metadata": {},
   "outputs": [],
   "source": [
    "df_pa_table"
   ]
  },
  {
   "cell_type": "markdown",
   "id": "0fd2c3f7-53fa-41cf-8dfc-55b48453b0e8",
   "metadata": {},
   "source": [
    "Write the dataframe with the `pyarrow.csv.write_csv` method"
   ]
  },
  {
   "cell_type": "code",
   "execution_count": null,
   "id": "2fd4c1df-7e01-46be-9a75-c5334bac0d78",
   "metadata": {},
   "outputs": [],
   "source": [
    "%%time\n",
    "# TODO"
   ]
  },
  {
   "cell_type": "markdown",
   "id": "b7be3ecd-4b86-49c1-901e-5446dac66133",
   "metadata": {},
   "source": [
    "Check the file size"
   ]
  },
  {
   "cell_type": "code",
   "execution_count": null,
   "id": "46d86465-8132-4de9-8301-5e280d394204",
   "metadata": {},
   "outputs": [],
   "source": [
    "# TODO"
   ]
  },
  {
   "cell_type": "raw",
   "id": "6c10639b-bb31-40f2-95ec-51f47e013922",
   "metadata": {},
   "source": [
    "Write the dataframe with compression"
   ]
  },
  {
   "cell_type": "code",
   "execution_count": null,
   "id": "a4c73f7a-b5a4-4cbd-b50b-ef3b09d701aa",
   "metadata": {},
   "outputs": [],
   "source": [
    "%%time\n",
    "# TODO"
   ]
  },
  {
   "cell_type": "markdown",
   "id": "c22af01a-1dcb-4f0e-8811-3d00676f1bb3",
   "metadata": {},
   "source": [
    "Check the file size"
   ]
  },
  {
   "cell_type": "code",
   "execution_count": null,
   "id": "c284a7ef-d048-444c-8ab7-ee54fbd442ce",
   "metadata": {},
   "outputs": [],
   "source": [
    "# TODO"
   ]
  },
  {
   "cell_type": "markdown",
   "id": "3450a0b8-8974-4686-857a-ae2077836316",
   "metadata": {},
   "source": [
    "Read the dataframe. You can use the parameter `engine=pyarrow` in `pandas.read_csv`."
   ]
  },
  {
   "cell_type": "code",
   "execution_count": null,
   "id": "d409cf16-8dce-424c-a3c1-9087419815a3",
   "metadata": {},
   "outputs": [],
   "source": [
    "%%time\n",
    "# TODO"
   ]
  },
  {
   "cell_type": "markdown",
   "id": "089f285f-587a-4f22-b9d4-a6b8e28eac08",
   "metadata": {},
   "source": [
    "## Convert to pyarrow types"
   ]
  },
  {
   "cell_type": "markdown",
   "id": "99a36bd4-b8ad-4d19-a8a6-0ef6576f9249",
   "metadata": {},
   "source": [
    "It is also possible to use Pyarrow type PyArrow data structure integration is implemented through pandas’ ExtensionArray interface.\n",
    "Using Pyarrow datatypes enable to accelerate processing with PyArrow compute functions where available."
   ]
  },
  {
   "cell_type": "code",
   "execution_count": null,
   "id": "ebf298d7-c851-4cbd-b68e-37417e2b66dc",
   "metadata": {},
   "outputs": [],
   "source": [
    "df_pa = df.copy()"
   ]
  },
  {
   "cell_type": "code",
   "execution_count": null,
   "id": "537acc34-3c31-4a9c-9cd8-0221ed3c98db",
   "metadata": {},
   "outputs": [],
   "source": [
    "df_pa.columns"
   ]
  },
  {
   "cell_type": "markdown",
   "id": "7b7ebcdf-49be-46da-9e67-c6aa6ac92060",
   "metadata": {},
   "source": [
    "Try to convert types with Pyarrow types."
   ]
  },
  {
   "cell_type": "code",
   "execution_count": null,
   "id": "2d95104d-5099-4bc5-ad38-2b85701c3884",
   "metadata": {},
   "outputs": [],
   "source": [
    "# TODO"
   ]
  },
  {
   "cell_type": "markdown",
   "id": "4fde4708-7578-47ec-9b41-7a46a80bed30",
   "metadata": {},
   "source": [
    "Check the types of the columns"
   ]
  },
  {
   "cell_type": "code",
   "execution_count": null,
   "id": "edfa6190-aec4-464b-a477-47fe4c9ed0c6",
   "metadata": {},
   "outputs": [],
   "source": [
    "df_pa.dtypes"
   ]
  },
  {
   "cell_type": "code",
   "execution_count": null,
   "id": "a36b497e-932d-46e8-9c84-c782b211af14",
   "metadata": {},
   "outputs": [],
   "source": [
    "df_pa.memory_usage(deep=True)"
   ]
  },
  {
   "cell_type": "code",
   "execution_count": null,
   "id": "c3f10748-02a1-4c02-975f-cd5658194f9a",
   "metadata": {},
   "outputs": [],
   "source": []
  }
 ],
 "metadata": {
  "kernelspec": {
   "display_name": "Python 3 (ipykernel)",
   "language": "python",
   "name": "python3"
  },
  "language_info": {
   "codemirror_mode": {
    "name": "ipython",
    "version": 3
   },
   "file_extension": ".py",
   "mimetype": "text/x-python",
   "name": "python",
   "nbconvert_exporter": "python",
   "pygments_lexer": "ipython3",
   "version": "3.10.12"
  }
 },
 "nbformat": 4,
 "nbformat_minor": 5
}
