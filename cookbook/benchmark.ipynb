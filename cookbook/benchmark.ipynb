{
 "cells": [
  {
   "cell_type": "markdown",
   "id": "dd029b89-988b-43f9-b1eb-e6fabf064593",
   "metadata": {},
   "source": [
    "# Pandas: File format benchmark"
   ]
  },
  {
   "cell_type": "markdown",
   "id": "ec434f77-f99b-4a73-a47d-795565397ca2",
   "metadata": {},
   "source": [
    "We will compare reading and writing performances of several file formats:\n",
    " * CSV\n",
    " * Feather\n",
    " * Parquet"
   ]
  },
  {
   "cell_type": "markdown",
   "id": "ffe340f5-bd7b-4e8b-be30-c70914abb73b",
   "metadata": {},
   "source": [
    "The metrics are:\n",
    " * size_mb — the size of the file (in Mb) with the serialized data frame\n",
    " * save_time — an amount of time required to save a data frame onto a disk\n",
    " * load_time — an amount of time needed to load the previously dumped data frame into memory\n",
    " * save_ram_mb — the memory consumption during a data frame saving process\n",
    " * load_ram_mb — the memory consumption during a data frame loading process"
   ]
  },
  {
   "cell_type": "code",
   "execution_count": null,
   "id": "ac0cab5e-acb4-44df-873b-bf4b100a3432",
   "metadata": {},
   "outputs": [],
   "source": [
    "import random\n",
    "import string\n",
    "import numpy as np\n",
    "import pandas as pd\n",
    "from datetime import datetime\n",
    "import pathlib\n",
    "%load_ext memory_profiler"
   ]
  },
  {
   "cell_type": "markdown",
   "id": "1b04c030-c712-4b0e-b940-1752858be0ad",
   "metadata": {},
   "source": [
    "Create a large dataset"
   ]
  },
  {
   "cell_type": "code",
   "execution_count": null,
   "id": "a5506bb7-5ecc-4183-a040-c9976ba73a5c",
   "metadata": {},
   "outputs": [],
   "source": [
    "%%time\n",
    "def gen_random_string(length:int=32) -> str:\n",
    "    return ''.join(random.choices(string.ascii_uppercase + string.digits, k=length))\n",
    "    \n",
    "def make_timeseries(start=\"2000-01-01\", end=\"2000-12-31\", freq=\"1D\", seed=None):\n",
    "\n",
    "    dt = pd.date_range(start=start, end=end, freq=freq, name=\"timestamp\")\n",
    "    n = len(dt)\n",
    "    np.random.seed = seed\n",
    "    columns = {\n",
    "        'date': dt,\n",
    "        'cat': np.random.choice(['cat1','cat2','cat3','cat4','cat5'],n),\n",
    "        'str1':[gen_random_string() for _ in range(n)],\n",
    "        'str2':[gen_random_string() for _ in range(n)],\n",
    "        'a': np.random.rand(n),\n",
    "        'b': np.random.rand(n),\n",
    "        'c': np.random.randint(1,100,n),\n",
    "    }\n",
    "\n",
    "    df = pd.DataFrame(columns, columns=columns)\n",
    "    if df.index[-1] == end:\n",
    "        df = df.iloc[:-1]\n",
    "    return df\n",
    "\n",
    "df = make_timeseries(start=datetime(2020,1,1), end=datetime(2023,12,31), freq='1min', seed=10)\n",
    "df[\"cat\"] = df[\"cat\"].astype(\"category\")"
   ]
  },
  {
   "cell_type": "markdown",
   "id": "4411cf70-5f2b-4c33-999f-9a84045a793d",
   "metadata": {},
   "source": [
    "Print the fisrt rows to see what the data looks like."
   ]
  },
  {
   "cell_type": "code",
   "execution_count": null,
   "id": "d810f3ef-6934-49ef-9054-755498c7ff73",
   "metadata": {},
   "outputs": [],
   "source": [
    "df.head()"
   ]
  },
  {
   "cell_type": "markdown",
   "id": "6f62bf15-dbfa-4901-8659-9a1b823becd8",
   "metadata": {},
   "source": [
    "Print the shape of the dataframe"
   ]
  },
  {
   "cell_type": "code",
   "execution_count": null,
   "id": "600e2498-30ff-4a76-b089-38f6b0280bf2",
   "metadata": {},
   "outputs": [],
   "source": [
    "df.shape"
   ]
  },
  {
   "cell_type": "markdown",
   "id": "deca93c4-0cff-4857-a791-1a16c45cc2bf",
   "metadata": {},
   "source": [
    "Print memory usage of the dataframe "
   ]
  },
  {
   "cell_type": "code",
   "execution_count": null,
   "id": "fd89625d-7d55-470a-8346-12c177e4c7bc",
   "metadata": {},
   "outputs": [],
   "source": [
    "df.info(memory_usage=\"deep\")"
   ]
  },
  {
   "cell_type": "markdown",
   "id": "70e0d18e-715b-443f-a728-d7bdeac52c79",
   "metadata": {},
   "source": [
    "## Write and read the dataframe in CSV format "
   ]
  },
  {
   "cell_type": "markdown",
   "id": "860a0980-1c08-45ee-b2b7-78b6d59e80a2",
   "metadata": {},
   "source": [
    "First we will time reading and writing the dataframe in CSV format, in order to compare the performance of pyarrow."
   ]
  },
  {
   "cell_type": "markdown",
   "id": "94baba01-f1d2-4178-8c74-06b1df9d850d",
   "metadata": {},
   "source": [
    "Measure the time and the memory to write dataframe"
   ]
  },
  {
   "cell_type": "code",
   "execution_count": null,
   "id": "ce2b07d7-c272-4eae-be8e-ea8f392a3340",
   "metadata": {},
   "outputs": [],
   "source": [
    "# TODO"
   ]
  },
  {
   "cell_type": "markdown",
   "id": "a9fde82d-8d54-4508-a59f-e4fb1bc2acc6",
   "metadata": {},
   "source": [
    "Check the file on the disk"
   ]
  },
  {
   "cell_type": "code",
   "execution_count": null,
   "id": "b75f35b1-2c9e-41ea-9f9e-3c7cb31c9614",
   "metadata": {},
   "outputs": [],
   "source": [
    "# TODO"
   ]
  },
  {
   "cell_type": "markdown",
   "id": "061aa184-984f-4702-bb14-a74e28564758",
   "metadata": {},
   "source": [
    "Measure the time and the memory to read the dataframe"
   ]
  },
  {
   "cell_type": "code",
   "execution_count": null,
   "id": "7113f17c-6e44-4941-bc08-08e13f1fcbdd",
   "metadata": {},
   "outputs": [],
   "source": [
    "# TODO"
   ]
  },
  {
   "cell_type": "markdown",
   "id": "4edaa881-ab54-4c25-9582-3f7c6bd1a397",
   "metadata": {},
   "source": [
    "## Write and read the dataframe in parquet format "
   ]
  },
  {
   "cell_type": "markdown",
   "id": "e4402adb-913f-46f1-a972-00e78738f087",
   "metadata": {},
   "source": [
    "Measure the time and the memory to write dataframe"
   ]
  },
  {
   "cell_type": "code",
   "execution_count": null,
   "id": "752973f7-621d-47ff-956f-9abaca9c0563",
   "metadata": {},
   "outputs": [],
   "source": [
    "# TODO"
   ]
  },
  {
   "cell_type": "markdown",
   "id": "09b1cc71-8e36-41e9-aedf-3cf51d6809d0",
   "metadata": {},
   "source": [
    "Check the file on the disk"
   ]
  },
  {
   "cell_type": "code",
   "execution_count": null,
   "id": "c653eaa7-202c-444b-991f-ca152264b9e4",
   "metadata": {},
   "outputs": [],
   "source": [
    "# TODO"
   ]
  },
  {
   "cell_type": "markdown",
   "id": "ee4014b1-c1db-4d05-9a3e-50f2614ea48a",
   "metadata": {},
   "source": [
    "Measure the time and the memory to read the dataframe"
   ]
  },
  {
   "cell_type": "code",
   "execution_count": null,
   "id": "cdc0c7ae-9bf6-4fae-a983-d2c4b808a618",
   "metadata": {},
   "outputs": [],
   "source": [
    "# TODO"
   ]
  },
  {
   "cell_type": "markdown",
   "id": "1d638331-c258-4ae3-9c13-e9bdcfde7bf2",
   "metadata": {},
   "source": [
    "## Write and read the dataframe in feather format"
   ]
  },
  {
   "cell_type": "markdown",
   "id": "40cc4d80-4724-4d15-9d97-2a246dd6ea0f",
   "metadata": {},
   "source": [
    "Measure the time and the memory to write dataframe"
   ]
  },
  {
   "cell_type": "code",
   "execution_count": null,
   "id": "4cc30f31-e589-4158-b9d6-26435c5a79e6",
   "metadata": {},
   "outputs": [],
   "source": [
    "# TODO"
   ]
  },
  {
   "cell_type": "markdown",
   "id": "2eebb508-bf7c-428a-8193-753aed011b3c",
   "metadata": {},
   "source": [
    "Check the file on the disk"
   ]
  },
  {
   "cell_type": "code",
   "execution_count": null,
   "id": "de2f16d3-4a8e-4fa0-bba5-368df010d26d",
   "metadata": {},
   "outputs": [],
   "source": [
    "# TODO"
   ]
  },
  {
   "cell_type": "markdown",
   "id": "f3d5f942-47ab-451a-9d43-4cbb3d811e3f",
   "metadata": {},
   "source": [
    "Measure the time and the memory to read the dataframe"
   ]
  },
  {
   "cell_type": "code",
   "execution_count": null,
   "id": "e28cb13f-c2e0-4ee1-9a03-d08bcad4255f",
   "metadata": {},
   "outputs": [],
   "source": [
    "# TODO"
   ]
  },
  {
   "cell_type": "markdown",
   "id": "e0e192f1-93c5-4ce5-b870-f6d00382ab36",
   "metadata": {},
   "source": [
    "## More excercices"
   ]
  },
  {
   "cell_type": "markdown",
   "id": "59153d70-bd3c-4ec1-8dcf-6aacca10236d",
   "metadata": {},
   "source": [
    "### 1. Plot the benchmark results"
   ]
  },
  {
   "cell_type": "markdown",
   "id": "9ad85f1c-b259-4549-a78e-d76e18f88bad",
   "metadata": {},
   "source": [
    "### 2. Analyze the influence of the compression in reading and writing"
   ]
  },
  {
   "cell_type": "code",
   "execution_count": null,
   "id": "24ac53a3-9228-4b23-b130-75b1b0daaa90",
   "metadata": {},
   "outputs": [],
   "source": []
  }
 ],
 "metadata": {
  "kernelspec": {
   "display_name": "Python 3 (ipykernel)",
   "language": "python",
   "name": "python3"
  },
  "language_info": {
   "codemirror_mode": {
    "name": "ipython",
    "version": 3
   },
   "file_extension": ".py",
   "mimetype": "text/x-python",
   "name": "python",
   "nbconvert_exporter": "python",
   "pygments_lexer": "ipython3",
   "version": "3.10.12"
  }
 },
 "nbformat": 4,
 "nbformat_minor": 5
}
